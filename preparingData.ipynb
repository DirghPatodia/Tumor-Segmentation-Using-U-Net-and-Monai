{
 "cells": [
  {
   "cell_type": "markdown",
   "id": "471a29b8",
   "metadata": {},
   "source": [
    "# Creating sub groups of Dicom files"
   ]
  },
  {
   "cell_type": "code",
   "execution_count": 13,
   "id": "6991bd6d",
   "metadata": {},
   "outputs": [],
   "source": [
    "in_path_images='D:/LungData/Task06_Lung/Task06_Lung/dicom_images_Tr'\n",
    "in_path_labels='D:/LungData/Task06_Lung/Task06_Lung/dicom_labels_Tr'\n",
    "out_path_images='D:/LungData/Task06_Lung/Task06_Lung/converted_images_groups'\n",
    "out_path_labels='D:/LungData/Task06_Lung/Task06_Lung/converted_labels_groups'"
   ]
  },
  {
   "cell_type": "code",
   "execution_count": 1,
   "id": "c18dcaa3",
   "metadata": {
    "collapsed": true
   },
   "outputs": [
    {
     "name": "stdout",
     "output_type": "stream",
     "text": [
      "Collecting glob2\n",
      "  Downloading glob2-0.7.tar.gz (10 kB)\n",
      "  Preparing metadata (setup.py): started\n",
      "  Preparing metadata (setup.py): finished with status 'done'\n",
      "Building wheels for collected packages: glob2\n",
      "  Building wheel for glob2 (setup.py): started\n",
      "  Building wheel for glob2 (setup.py): finished with status 'done'\n",
      "  Created wheel for glob2: filename=glob2-0.7-py2.py3-none-any.whl size=9311 sha256=24ec092ffd371734f65a0dd385b39780d963da691ffc7da13b1cede85b911a4f\n",
      "  Stored in directory: c:\\users\\dirgh\\appdata\\local\\pip\\cache\\wheels\\c0\\dd\\ee\\ba6164807de7570971e8f160dbe6a4178ff4e5922f48c093be\n",
      "Successfully built glob2\n",
      "Installing collected packages: glob2\n",
      "Successfully installed glob2-0.7\n",
      "Collecting pytest_shutil\n",
      "  Downloading pytest_shutil-1.7.0-py2.py3-none-any.whl (15 kB)\n",
      "Requirement already satisfied: six in d:\\anacondaeditor\\envs\\tumorsegmentation\\lib\\site-packages (from pytest_shutil) (1.16.0)\n",
      "Collecting execnet (from pytest_shutil)\n",
      "  Downloading execnet-1.9.0-py2.py3-none-any.whl (39 kB)\n",
      "Collecting contextlib2 (from pytest_shutil)\n",
      "  Downloading contextlib2-21.6.0-py2.py3-none-any.whl (13 kB)\n",
      "Collecting pytest (from pytest_shutil)\n",
      "  Downloading pytest-7.3.2-py3-none-any.whl (320 kB)\n",
      "                                              0.0/320.9 kB ? eta -:--:--\n",
      "     -------------------------              215.0/320.9 kB 6.4 MB/s eta 0:00:01\n",
      "     -------------------------------------- 320.9/320.9 kB 6.6 MB/s eta 0:00:00\n",
      "Collecting path.py (from pytest_shutil)\n",
      "  Downloading path.py-12.5.0-py3-none-any.whl (2.3 kB)\n",
      "Collecting mock (from pytest_shutil)\n",
      "  Downloading mock-5.0.2-py3-none-any.whl (30 kB)\n",
      "Collecting termcolor (from pytest_shutil)\n",
      "  Downloading termcolor-2.3.0-py3-none-any.whl (6.9 kB)\n",
      "Collecting path (from path.py->pytest_shutil)\n",
      "  Downloading path-16.6.0-py3-none-any.whl (26 kB)\n",
      "Collecting iniconfig (from pytest->pytest_shutil)\n",
      "  Downloading iniconfig-2.0.0-py3-none-any.whl (5.9 kB)\n",
      "Requirement already satisfied: packaging in d:\\anacondaeditor\\envs\\tumorsegmentation\\lib\\site-packages (from pytest->pytest_shutil) (23.0)\n",
      "Collecting pluggy<2.0,>=0.12 (from pytest->pytest_shutil)\n",
      "  Downloading pluggy-1.2.0-py3-none-any.whl (17 kB)\n",
      "Collecting exceptiongroup>=1.0.0rc8 (from pytest->pytest_shutil)\n",
      "  Downloading exceptiongroup-1.1.1-py3-none-any.whl (14 kB)\n",
      "Collecting tomli>=1.0.0 (from pytest->pytest_shutil)\n",
      "  Downloading tomli-2.0.1-py3-none-any.whl (12 kB)\n",
      "Requirement already satisfied: colorama in d:\\anacondaeditor\\envs\\tumorsegmentation\\lib\\site-packages (from pytest->pytest_shutil) (0.4.6)\n",
      "Installing collected packages: tomli, termcolor, pluggy, path, mock, iniconfig, execnet, exceptiongroup, contextlib2, pytest, path.py, pytest_shutil\n",
      "Successfully installed contextlib2-21.6.0 exceptiongroup-1.1.1 execnet-1.9.0 iniconfig-2.0.0 mock-5.0.2 path-16.6.0 path.py-12.5.0 pluggy-1.2.0 pytest-7.3.2 pytest_shutil-1.7.0 termcolor-2.3.0 tomli-2.0.1\n"
     ]
    }
   ],
   "source": [
    "!pip install glob2\n",
    "!pip install pytest_shutil"
   ]
  },
  {
   "cell_type": "code",
   "execution_count": 1,
   "id": "e6533464",
   "metadata": {},
   "outputs": [],
   "source": [
    "from glob import glob\n",
    "import shutil\n",
    "import os \n",
    "import dicom2nifti\n",
    "import nibabel as nib\n",
    "import numpy as np"
   ]
  },
  {
   "cell_type": "code",
   "execution_count": 14,
   "id": "5382cffc",
   "metadata": {},
   "outputs": [],
   "source": [
    "for patient in glob(in_path_images+'/*'):\n",
    "    patient_name=os.path.basename(os.path.normpath(patient))\n",
    "    num_folders=int((len(glob(patient+'/*'))/180)+1)\n",
    "    \n",
    "    for i in range(num_folders):\n",
    "        out_path_name=os.path.join(out_path_images,patient_name+'_'+str(i))\n",
    "        os.mkdir(out_path_name)\n",
    "        for i,file in enumerate(glob(patient+'/*')):\n",
    "            if i==180 :\n",
    "                break\n",
    "            shutil.move(file,out_path_name)"
   ]
  },
  {
   "cell_type": "code",
   "execution_count": 15,
   "id": "34455f48",
   "metadata": {},
   "outputs": [],
   "source": [
    "for patient in glob(in_path_labels+'/*'):\n",
    "    patient_name=os.path.basename(os.path.normpath(patient))\n",
    "    num_folders=int((len(glob(patient+'/*'))/180)+1)\n",
    "    \n",
    "    for i in range(num_folders):\n",
    "        out_path_name=os.path.join(out_path_labels,patient_name+'_'+str(i))\n",
    "        os.mkdir(out_path_name)\n",
    "        for i,file in enumerate(glob(patient+'/*')):\n",
    "            if i==180 :\n",
    "                break\n",
    "            shutil.move(file,out_path_name)"
   ]
  },
  {
   "cell_type": "markdown",
   "id": "c2db854e",
   "metadata": {},
   "source": [
    "# Convert Dicom to Nifti File"
   ]
  },
  {
   "cell_type": "code",
   "execution_count": 1,
   "id": "2cebfda2",
   "metadata": {},
   "outputs": [
    {
     "name": "stdout",
     "output_type": "stream",
     "text": [
      "Requirement already satisfied: dicom2nifti in d:\\anacondaeditor\\envs\\tumorsegmentation\\lib\\site-packages (2.4.8)\n",
      "Requirement already satisfied: nibabel in d:\\anacondaeditor\\envs\\tumorsegmentation\\lib\\site-packages (from dicom2nifti) (5.1.0)\n",
      "Requirement already satisfied: numpy in d:\\anacondaeditor\\envs\\tumorsegmentation\\lib\\site-packages (from dicom2nifti) (1.25.0)\n",
      "Requirement already satisfied: scipy in d:\\anacondaeditor\\envs\\tumorsegmentation\\lib\\site-packages (from dicom2nifti) (1.10.1)\n",
      "Requirement already satisfied: pydicom>=2.2.0 in d:\\anacondaeditor\\envs\\tumorsegmentation\\lib\\site-packages (from dicom2nifti) (2.4.1)\n",
      "Requirement already satisfied: python-gdcm in d:\\anacondaeditor\\envs\\tumorsegmentation\\lib\\site-packages (from dicom2nifti) (3.0.22)\n",
      "Requirement already satisfied: packaging>=17 in d:\\anacondaeditor\\envs\\tumorsegmentation\\lib\\site-packages (from nibabel->dicom2nifti) (23.0)\n"
     ]
    }
   ],
   "source": [
    "!pip install dicom2nifti"
   ]
  },
  {
   "cell_type": "code",
   "execution_count": 18,
   "id": "df88d970",
   "metadata": {},
   "outputs": [],
   "source": [
    "in_path_images2='D:/LungData/Task06_Lung/Task06_Lung/converted_images_groups/*'\n",
    "in_path_labels2='D:/LungData/Task06_Lung/Task06_Lung/converted_labels_groups/*'\n",
    "out_path_images2='D:/LungData/Task06_Lung/Task06_Lung/converted_nifti_images'\n",
    "out_path_labels2='D:/LungData/Task06_Lung/Task06_Lung/converted_nifti_labels'\n",
    "\n",
    "list_images=glob(in_path_images2)\n",
    "list_labels=glob(in_path_labels2)"
   ]
  },
  {
   "cell_type": "code",
   "execution_count": 20,
   "id": "348ff9ee",
   "metadata": {},
   "outputs": [
    {
     "ename": "IndexError",
     "evalue": "list index out of range",
     "output_type": "error",
     "traceback": [
      "\u001b[1;31m---------------------------------------------------------------------------\u001b[0m",
      "\u001b[1;31mIndexError\u001b[0m                                Traceback (most recent call last)",
      "Cell \u001b[1;32mIn[20], line 6\u001b[0m\n\u001b[0;32m      4\u001b[0m \u001b[38;5;28;01mfor\u001b[39;00m patient \u001b[38;5;129;01min\u001b[39;00m list_labels:\n\u001b[0;32m      5\u001b[0m     patient_name\u001b[38;5;241m=\u001b[39mos\u001b[38;5;241m.\u001b[39mpath\u001b[38;5;241m.\u001b[39mbasename(os\u001b[38;5;241m.\u001b[39mpath\u001b[38;5;241m.\u001b[39mnormpath(patient))\n\u001b[1;32m----> 6\u001b[0m     \u001b[43mdicom2nifti\u001b[49m\u001b[38;5;241;43m.\u001b[39;49m\u001b[43mdicom_series_to_nifti\u001b[49m\u001b[43m(\u001b[49m\u001b[43mpatient\u001b[49m\u001b[43m,\u001b[49m\u001b[43mos\u001b[49m\u001b[38;5;241;43m.\u001b[39;49m\u001b[43mpath\u001b[49m\u001b[38;5;241;43m.\u001b[39;49m\u001b[43mjoin\u001b[49m\u001b[43m(\u001b[49m\u001b[43mout_path_labels2\u001b[49m\u001b[43m,\u001b[49m\u001b[43mpatient_name\u001b[49m\u001b[38;5;241;43m+\u001b[39;49m\u001b[38;5;124;43m'\u001b[39;49m\u001b[38;5;124;43m.nii.gz\u001b[39;49m\u001b[38;5;124;43m'\u001b[39;49m\u001b[43m)\u001b[49m\u001b[43m)\u001b[49m\n",
      "File \u001b[1;32mD:\\AnacondaEditor\\envs\\TumorSegmentation\\lib\\site-packages\\dicom2nifti\\convert_dicom.py:77\u001b[0m, in \u001b[0;36mdicom_series_to_nifti\u001b[1;34m(original_dicom_directory, output_file, reorient_nifti)\u001b[0m\n\u001b[0;32m     73\u001b[0m     shutil\u001b[38;5;241m.\u001b[39mcopytree(original_dicom_directory, dicom_directory)\n\u001b[0;32m     75\u001b[0m     dicom_input \u001b[38;5;241m=\u001b[39m common\u001b[38;5;241m.\u001b[39mread_dicom_directory(dicom_directory)\n\u001b[1;32m---> 77\u001b[0m     \u001b[38;5;28;01mreturn\u001b[39;00m \u001b[43mdicom_array_to_nifti\u001b[49m\u001b[43m(\u001b[49m\u001b[43mdicom_input\u001b[49m\u001b[43m,\u001b[49m\u001b[43m \u001b[49m\u001b[43moutput_file\u001b[49m\u001b[43m,\u001b[49m\u001b[43m \u001b[49m\u001b[43mreorient_nifti\u001b[49m\u001b[43m)\u001b[49m\n\u001b[0;32m     79\u001b[0m \u001b[38;5;28;01mexcept\u001b[39;00m \u001b[38;5;167;01mAttributeError\u001b[39;00m \u001b[38;5;28;01mas\u001b[39;00m exception:\n\u001b[0;32m     80\u001b[0m     \u001b[38;5;28;01mraise\u001b[39;00m exception\n",
      "File \u001b[1;32mD:\\AnacondaEditor\\envs\\TumorSegmentation\\lib\\site-packages\\dicom2nifti\\convert_dicom.py:111\u001b[0m, in \u001b[0;36mdicom_array_to_nifti\u001b[1;34m(dicom_list, output_file, reorient_nifti)\u001b[0m\n\u001b[0;32m     88\u001b[0m \u001b[38;5;250m\u001b[39m\u001b[38;5;124;03m\"\"\" Converts dicom single series (see pydicom) to nifty, mimicking SPM\u001b[39;00m\n\u001b[0;32m     89\u001b[0m \n\u001b[0;32m     90\u001b[0m \u001b[38;5;124;03mExamples: See unit test\u001b[39;00m\n\u001b[1;32m   (...)\u001b[0m\n\u001b[0;32m    108\u001b[0m \u001b[38;5;124;03m:param dicom_list: list with uncompressed dicom objects as read by pydicom\u001b[39;00m\n\u001b[0;32m    109\u001b[0m \u001b[38;5;124;03m\"\"\"\u001b[39;00m\n\u001b[0;32m    110\u001b[0m \u001b[38;5;66;03m# copy files so we can can modify without altering the original\u001b[39;00m\n\u001b[1;32m--> 111\u001b[0m \u001b[38;5;28;01mif\u001b[39;00m \u001b[38;5;129;01mnot\u001b[39;00m \u001b[43mare_imaging_dicoms\u001b[49m\u001b[43m(\u001b[49m\u001b[43mdicom_list\u001b[49m\u001b[43m)\u001b[49m:\n\u001b[0;32m    112\u001b[0m     \u001b[38;5;28;01mraise\u001b[39;00m ConversionValidationError(\u001b[38;5;124m'\u001b[39m\u001b[38;5;124mNON_IMAGING_DICOM_FILES\u001b[39m\u001b[38;5;124m'\u001b[39m)\n\u001b[0;32m    114\u001b[0m vendor \u001b[38;5;241m=\u001b[39m _get_vendor(dicom_list)\n",
      "File \u001b[1;32mD:\\AnacondaEditor\\envs\\TumorSegmentation\\lib\\site-packages\\dicom2nifti\\convert_dicom.py:150\u001b[0m, in \u001b[0;36mare_imaging_dicoms\u001b[1;34m(dicom_input)\u001b[0m\n\u001b[0;32m    142\u001b[0m \u001b[38;5;250m\u001b[39m\u001b[38;5;124;03m\"\"\"\u001b[39;00m\n\u001b[0;32m    143\u001b[0m \u001b[38;5;124;03mThis function will check the dicom headers to see which type of series it is\u001b[39;00m\n\u001b[0;32m    144\u001b[0m \u001b[38;5;124;03mPossibilities are fMRI, DTI, Anatomical (if no clear type is found anatomical is used)\u001b[39;00m\n\u001b[0;32m    145\u001b[0m \n\u001b[0;32m    146\u001b[0m \u001b[38;5;124;03m:param dicom_input: directory with dicom files or a list of dicom objects\u001b[39;00m\n\u001b[0;32m    147\u001b[0m \u001b[38;5;124;03m\"\"\"\u001b[39;00m\n\u001b[0;32m    149\u001b[0m \u001b[38;5;66;03m# if it is philips and multiframe dicom then we assume it is ok\u001b[39;00m\n\u001b[1;32m--> 150\u001b[0m \u001b[38;5;28;01mif\u001b[39;00m \u001b[43mcommon\u001b[49m\u001b[38;5;241;43m.\u001b[39;49m\u001b[43mis_multiframe_dicom\u001b[49m\u001b[43m(\u001b[49m\u001b[43mdicom_input\u001b[49m\u001b[43m)\u001b[49m:\n\u001b[0;32m    151\u001b[0m     \u001b[38;5;28;01mreturn\u001b[39;00m \u001b[38;5;28;01mTrue\u001b[39;00m\n\u001b[0;32m    153\u001b[0m \u001b[38;5;66;03m# for all others if there is image position patient we assume it is ok\u001b[39;00m\n",
      "File \u001b[1;32mD:\\AnacondaEditor\\envs\\TumorSegmentation\\lib\\site-packages\\dicom2nifti\\common.py:148\u001b[0m, in \u001b[0;36mis_multiframe_dicom\u001b[1;34m(dicom_input)\u001b[0m\n\u001b[0;32m    140\u001b[0m \u001b[38;5;250m\u001b[39m\u001b[38;5;124;03m\"\"\"\u001b[39;00m\n\u001b[0;32m    141\u001b[0m \u001b[38;5;124;03mUse this function to detect if a dicom series is a siemens 4D dataset\u001b[39;00m\n\u001b[0;32m    142\u001b[0m \u001b[38;5;124;03mNOTE: Only the first slice will be checked so you can only provide an already sorted dicom directory\u001b[39;00m\n\u001b[1;32m   (...)\u001b[0m\n\u001b[0;32m    145\u001b[0m \u001b[38;5;124;03m:param dicom_input: directory with dicom files for 1 scan\u001b[39;00m\n\u001b[0;32m    146\u001b[0m \u001b[38;5;124;03m\"\"\"\u001b[39;00m\n\u001b[0;32m    147\u001b[0m \u001b[38;5;66;03m# read dicom header\u001b[39;00m\n\u001b[1;32m--> 148\u001b[0m header \u001b[38;5;241m=\u001b[39m \u001b[43mdicom_input\u001b[49m\u001b[43m[\u001b[49m\u001b[38;5;241;43m0\u001b[39;49m\u001b[43m]\u001b[49m\n\u001b[0;32m    150\u001b[0m \u001b[38;5;28;01mif\u001b[39;00m Tag(\u001b[38;5;241m0x0002\u001b[39m, \u001b[38;5;241m0x0002\u001b[39m) \u001b[38;5;129;01mnot\u001b[39;00m \u001b[38;5;129;01min\u001b[39;00m header\u001b[38;5;241m.\u001b[39mfile_meta:\n\u001b[0;32m    151\u001b[0m     \u001b[38;5;28;01mreturn\u001b[39;00m \u001b[38;5;28;01mFalse\u001b[39;00m\n",
      "\u001b[1;31mIndexError\u001b[0m: list index out of range"
     ]
    }
   ],
   "source": [
    "for patient in list_images:\n",
    "    patient_name=os.path.basename(os.path.normpath(patient))\n",
    "    dicom2nifti.dicom_series_to_nifti(patient,os.path.join(out_path_images2,patient_name+'.nii.gz'))\n",
    "for patient in list_labels:\n",
    "    patient_name=os.path.basename(os.path.normpath(patient))\n",
    "    dicom2nifti.dicom_series_to_nifti(patient,os.path.join(out_path_labels2,patient_name+'.nii.gz'))"
   ]
  },
  {
   "cell_type": "markdown",
   "id": "75c00753",
   "metadata": {},
   "source": [
    "# Removing useless Files"
   ]
  },
  {
   "cell_type": "code",
   "execution_count": 2,
   "id": "9df768d2",
   "metadata": {},
   "outputs": [
    {
     "name": "stdout",
     "output_type": "stream",
     "text": [
      "D:/LungData/Task06_Lung/Task06_Lung/converted_nifti_labels\\lung_001_0.nii.gz\n",
      "D:/LungData/Task06_Lung/Task06_Lung/converted_nifti_labels\\lung_003_1.nii.gz\n",
      "D:/LungData/Task06_Lung/Task06_Lung/converted_nifti_labels\\lung_004_0.nii.gz\n",
      "D:/LungData/Task06_Lung/Task06_Lung/converted_nifti_labels\\lung_006_0.nii.gz\n",
      "D:/LungData/Task06_Lung/Task06_Lung/converted_nifti_labels\\lung_006_1.nii.gz\n",
      "D:/LungData/Task06_Lung/Task06_Lung/converted_nifti_labels\\lung_006_3.nii.gz\n",
      "D:/LungData/Task06_Lung/Task06_Lung/converted_nifti_labels\\lung_009_0.nii.gz\n",
      "D:/LungData/Task06_Lung/Task06_Lung/converted_nifti_labels\\lung_010_1.nii.gz\n",
      "D:/LungData/Task06_Lung/Task06_Lung/converted_nifti_labels\\lung_014_0.nii.gz\n",
      "D:/LungData/Task06_Lung/Task06_Lung/converted_nifti_labels\\lung_014_3.nii.gz\n",
      "D:/LungData/Task06_Lung/Task06_Lung/converted_nifti_labels\\lung_015_1.nii.gz\n",
      "D:/LungData/Task06_Lung/Task06_Lung/converted_nifti_labels\\lung_016_1.nii.gz\n",
      "D:/LungData/Task06_Lung/Task06_Lung/converted_nifti_labels\\lung_020_0.nii.gz\n",
      "D:/LungData/Task06_Lung/Task06_Lung/converted_nifti_labels\\lung_022_0.nii.gz\n",
      "D:/LungData/Task06_Lung/Task06_Lung/converted_nifti_labels\\lung_022_2.nii.gz\n",
      "D:/LungData/Task06_Lung/Task06_Lung/converted_nifti_labels\\lung_023_0.nii.gz\n",
      "D:/LungData/Task06_Lung/Task06_Lung/converted_nifti_labels\\lung_023_1.nii.gz\n",
      "D:/LungData/Task06_Lung/Task06_Lung/converted_nifti_labels\\lung_025_0.nii.gz\n",
      "D:/LungData/Task06_Lung/Task06_Lung/converted_nifti_labels\\lung_025_2.nii.gz\n",
      "D:/LungData/Task06_Lung/Task06_Lung/converted_nifti_labels\\lung_027_1.nii.gz\n",
      "D:/LungData/Task06_Lung/Task06_Lung/converted_nifti_labels\\lung_028_1.nii.gz\n",
      "D:/LungData/Task06_Lung/Task06_Lung/converted_nifti_labels\\lung_029_0.nii.gz\n",
      "D:/LungData/Task06_Lung/Task06_Lung/converted_nifti_labels\\lung_031_0.nii.gz\n",
      "D:/LungData/Task06_Lung/Task06_Lung/converted_nifti_labels\\lung_036_1.nii.gz\n"
     ]
    }
   ],
   "source": [
    "input_nifti_path='D:/LungData/Task06_Lung/Task06_Lung/converted_nifti_labels/*'\n",
    "for nifti in glob(input_nifti_path):\n",
    "    nifti_file=nib.load(nifti)\n",
    "    f_data=nifti_file.get_fdata()\n",
    "    np_unique=np.unique(f_data)\n",
    "    if len(np_unique)==1:\n",
    "        print (nifti)"
   ]
  },
  {
   "cell_type": "code",
   "execution_count": null,
   "id": "1dd46d97",
   "metadata": {},
   "outputs": [],
   "source": []
  }
 ],
 "metadata": {
  "kernelspec": {
   "display_name": "Python 3 (ipykernel)",
   "language": "python",
   "name": "python3"
  },
  "language_info": {
   "codemirror_mode": {
    "name": "ipython",
    "version": 3
   },
   "file_extension": ".py",
   "mimetype": "text/x-python",
   "name": "python",
   "nbconvert_exporter": "python",
   "pygments_lexer": "ipython3",
   "version": "3.9.16"
  }
 },
 "nbformat": 4,
 "nbformat_minor": 5
}
